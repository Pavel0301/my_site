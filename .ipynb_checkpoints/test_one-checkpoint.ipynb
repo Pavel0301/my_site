{
 "cells": [
  {
   "cell_type": "code",
   "execution_count": 13,
   "id": "43f5ca73",
   "metadata": {},
   "outputs": [],
   "source": [
    "from django.db import models\n",
    "from blog.models import Post\n",
    "\n"
   ]
  },
  {
   "cell_type": "code",
   "execution_count": 12,
   "id": "75727b97",
   "metadata": {},
   "outputs": [
    {
     "name": "stdout",
     "output_type": "stream",
     "text": [
      "rtyry\n",
      "ryrtyrtyrty\n",
      "rtyrtytr\n",
      "Hello guys\n"
     ]
    }
   ],
   "source": [
    "\n",
    "queryset = Post.objects.all()\n",
    "for querysets in queryset:\n",
    "    print(querysets.title)\n",
    "\n"
   ]
  },
  {
   "cell_type": "code",
   "execution_count": null,
   "id": "2a09366b",
   "metadata": {},
   "outputs": [],
   "source": []
  },
  {
   "cell_type": "code",
   "execution_count": null,
   "id": "a548dad6",
   "metadata": {},
   "outputs": [],
   "source": []
  }
 ],
 "metadata": {
  "kernelspec": {
   "display_name": "Django Shell-Plus",
   "language": "python",
   "name": "django_extensions"
  },
  "language_info": {
   "codemirror_mode": {
    "name": "ipython",
    "version": 3
   },
   "file_extension": ".py",
   "mimetype": "text/x-python",
   "name": "python",
   "nbconvert_exporter": "python",
   "pygments_lexer": "ipython3",
   "version": "3.11.0"
  }
 },
 "nbformat": 4,
 "nbformat_minor": 5
}

{
 "cells": [
  {
   "cell_type": "code",
   "execution_count": 4,
   "id": "b83d198d",
   "metadata": {},
   "outputs": [],
   "source": [
    "from django.db import models\n",
    "from blog.models import Post\n",
    "from django.views.generic import ListView\n"
   ]
  },
  {
   "cell_type": "code",
   "execution_count": 2,
   "id": "effc6bd0",
   "metadata": {},
   "outputs": [
    {
     "data": {
      "text/plain": [
       "<QuerySet [<Post: Test 2>, <Post: Test 1>]>"
      ]
     },
     "execution_count": 2,
     "metadata": {},
     "output_type": "execute_result"
    }
   ],
   "source": [
    "#pk = papoken.pk\n",
    "queryset = Post.objects.filter(author=1).order_by('-date_created')\n",
    "queryset"
   ]
  },
  {
   "cell_type": "code",
   "execution_count": 10,
   "id": "843e87de",
   "metadata": {},
   "outputs": [
    {
     "ename": "NameError",
     "evalue": "name 'context' is not defined",
     "output_type": "error",
     "traceback": [
      "\u001b[1;31m---------------------------------------------------------------------------\u001b[0m",
      "\u001b[1;31mNameError\u001b[0m                                 Traceback (most recent call last)",
      "Cell \u001b[1;32mIn[10], line 12\u001b[0m\n\u001b[0;32m      9\u001b[0m         context[\u001b[38;5;124m\"\u001b[39m\u001b[38;5;124mmy_posts\u001b[39m\u001b[38;5;124m\"\u001b[39m] \u001b[38;5;241m=\u001b[39m Post\u001b[38;5;241m.\u001b[39mobjects\u001b[38;5;241m.\u001b[39mfilter(author\u001b[38;5;241m=\u001b[39m\u001b[38;5;124m'\u001b[39m\u001b[38;5;124mpk\u001b[39m\u001b[38;5;124m'\u001b[39m)\n\u001b[0;32m     10\u001b[0m         \u001b[38;5;28;01mreturn\u001b[39;00m context\n\u001b[1;32m---> 12\u001b[0m \u001b[43mcontext\u001b[49m\n",
      "\u001b[1;31mNameError\u001b[0m: name 'context' is not defined"
     ]
    }
   ],
   "source": [
    "class MyPostDetailView(ListView):\n",
    "    model = Post\n",
    "    context_object_name = 'my_posts'\n",
    "\n",
    "    def get_context_data(self, **kwargs):\n",
    "        # Call the base implementation first to get a context\n",
    "        context = super().get_context_data(**kwargs)\n",
    "        # Add in a QuerySet of all the books\n",
    "        context[\"my_posts\"] = Post.objects.filter(author='pk')\n",
    "        return context\n",
    "    \n",
    "context"
   ]
  },
  {
   "cell_type": "code",
   "execution_count": 7,
   "id": "b5e82508",
   "metadata": {},
   "outputs": [
    {
     "ename": "NameError",
     "evalue": "name 'context' is not defined",
     "output_type": "error",
     "traceback": [
      "\u001b[1;31m---------------------------------------------------------------------------\u001b[0m",
      "\u001b[1;31mNameError\u001b[0m                                 Traceback (most recent call last)",
      "Cell \u001b[1;32mIn[7], line 1\u001b[0m\n\u001b[1;32m----> 1\u001b[0m \u001b[43mcontext\u001b[49m\n",
      "\u001b[1;31mNameError\u001b[0m: name 'context' is not defined"
     ]
    }
   ],
   "source": []
  },
  {
   "cell_type": "code",
   "execution_count": null,
   "id": "82fef063",
   "metadata": {},
   "outputs": [],
   "source": []
  }
 ],
 "metadata": {
  "kernelspec": {
   "display_name": "Django Shell-Plus",
   "language": "python",
   "name": "django_extensions"
  },
  "language_info": {
   "codemirror_mode": {
    "name": "ipython",
    "version": 3
   },
   "file_extension": ".py",
   "mimetype": "text/x-python",
   "name": "python",
   "nbconvert_exporter": "python",
   "pygments_lexer": "ipython3",
   "version": "3.11.0"
  }
 },
 "nbformat": 4,
 "nbformat_minor": 5
}
